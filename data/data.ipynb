{
 "cells": [
  {
   "cell_type": "code",
   "execution_count": 1,
   "metadata": {},
   "outputs": [],
   "source": [
    "import pandas as pd\n",
    "import numpy as py\n",
    "from math import cos, pi\n",
    "from geopy.geocoders import Nominatim"
   ]
  },
  {
   "cell_type": "code",
   "execution_count": 2,
   "metadata": {},
   "outputs": [
    {
     "output_type": "execute_result",
     "data": {
      "text/plain": "               Country Code-2 Code-3  Numeric\n0          Afghanistan     AF    AFG        4\n1        Åland Islands     AX    ALA      248\n2              Albania     AL    ALB        8\n3              Algeria     DZ    DZA       12\n4       American Samoa     AS    ASM       16\n..                 ...    ...    ...      ...\n244  Wallis and Futuna     WF    WLF      876\n245     Western Sahara     EH    ESH      732\n246              Yemen     YE    YEM      887\n247             Zambia     ZM    ZMB      894\n248           Zimbabwe     ZW    ZWE      716\n\n[249 rows x 4 columns]",
      "text/html": "<div>\n<style scoped>\n    .dataframe tbody tr th:only-of-type {\n        vertical-align: middle;\n    }\n\n    .dataframe tbody tr th {\n        vertical-align: top;\n    }\n\n    .dataframe thead th {\n        text-align: right;\n    }\n</style>\n<table border=\"1\" class=\"dataframe\">\n  <thead>\n    <tr style=\"text-align: right;\">\n      <th></th>\n      <th>Country</th>\n      <th>Code-2</th>\n      <th>Code-3</th>\n      <th>Numeric</th>\n    </tr>\n  </thead>\n  <tbody>\n    <tr>\n      <th>0</th>\n      <td>Afghanistan</td>\n      <td>AF</td>\n      <td>AFG</td>\n      <td>4</td>\n    </tr>\n    <tr>\n      <th>1</th>\n      <td>Åland Islands</td>\n      <td>AX</td>\n      <td>ALA</td>\n      <td>248</td>\n    </tr>\n    <tr>\n      <th>2</th>\n      <td>Albania</td>\n      <td>AL</td>\n      <td>ALB</td>\n      <td>8</td>\n    </tr>\n    <tr>\n      <th>3</th>\n      <td>Algeria</td>\n      <td>DZ</td>\n      <td>DZA</td>\n      <td>12</td>\n    </tr>\n    <tr>\n      <th>4</th>\n      <td>American Samoa</td>\n      <td>AS</td>\n      <td>ASM</td>\n      <td>16</td>\n    </tr>\n    <tr>\n      <th>...</th>\n      <td>...</td>\n      <td>...</td>\n      <td>...</td>\n      <td>...</td>\n    </tr>\n    <tr>\n      <th>244</th>\n      <td>Wallis and Futuna</td>\n      <td>WF</td>\n      <td>WLF</td>\n      <td>876</td>\n    </tr>\n    <tr>\n      <th>245</th>\n      <td>Western Sahara</td>\n      <td>EH</td>\n      <td>ESH</td>\n      <td>732</td>\n    </tr>\n    <tr>\n      <th>246</th>\n      <td>Yemen</td>\n      <td>YE</td>\n      <td>YEM</td>\n      <td>887</td>\n    </tr>\n    <tr>\n      <th>247</th>\n      <td>Zambia</td>\n      <td>ZM</td>\n      <td>ZMB</td>\n      <td>894</td>\n    </tr>\n    <tr>\n      <th>248</th>\n      <td>Zimbabwe</td>\n      <td>ZW</td>\n      <td>ZWE</td>\n      <td>716</td>\n    </tr>\n  </tbody>\n</table>\n<p>249 rows × 4 columns</p>\n</div>"
     },
     "metadata": {},
     "execution_count": 2
    }
   ],
   "source": [
    "data = pd.read_html(\"https://www.iban.com/country-codes\")[0]\n",
    "data.columns = ['Country', 'Code-2', 'Code-3', 'Numeric']\n",
    "\n",
    "data"
   ]
  },
  {
   "cell_type": "code",
   "execution_count": 3,
   "metadata": {},
   "outputs": [
    {
     "output_type": "execute_result",
     "data": {
      "text/plain": "{'AF': 'AFG',\n 'AX': 'ALA',\n 'AL': 'ALB',\n 'DZ': 'DZA',\n 'AS': 'ASM',\n 'AD': 'AND',\n 'AO': 'AGO',\n 'AI': 'AIA',\n 'AQ': 'ATA',\n 'AG': 'ATG',\n 'AR': 'ARG',\n 'AM': 'ARM',\n 'AW': 'ABW',\n 'AU': 'AUS',\n 'AT': 'AUT',\n 'AZ': 'AZE',\n 'BS': 'BHS',\n 'BH': 'BHR',\n 'BD': 'BGD',\n 'BB': 'BRB',\n 'BY': 'BLR',\n 'BE': 'BEL',\n 'BZ': 'BLZ',\n 'BJ': 'BEN',\n 'BM': 'BMU',\n 'BT': 'BTN',\n 'BO': 'BOL',\n 'BQ': 'BES',\n 'BA': 'BIH',\n 'BW': 'BWA',\n 'BV': 'BVT',\n 'BR': 'BRA',\n 'IO': 'IOT',\n 'BN': 'BRN',\n 'BG': 'BGR',\n 'BF': 'BFA',\n 'BI': 'BDI',\n 'CV': 'CPV',\n 'KH': 'KHM',\n 'CM': 'CMR',\n 'CA': 'CAN',\n 'KY': 'CYM',\n 'CF': 'CAF',\n 'TD': 'TCD',\n 'CL': 'CHL',\n 'CN': 'CHN',\n 'CX': 'CXR',\n 'CC': 'CCK',\n 'CO': 'COL',\n 'KM': 'COM',\n 'CD': 'COD',\n 'CG': 'COG',\n 'CK': 'COK',\n 'CR': 'CRI',\n 'CI': 'CIV',\n 'HR': 'HRV',\n 'CU': 'CUB',\n 'CW': 'CUW',\n 'CY': 'CYP',\n 'CZ': 'CZE',\n 'DK': 'DNK',\n 'DJ': 'DJI',\n 'DM': 'DMA',\n 'DO': 'DOM',\n 'EC': 'ECU',\n 'EG': 'EGY',\n 'SV': 'SLV',\n 'GQ': 'GNQ',\n 'ER': 'ERI',\n 'EE': 'EST',\n 'SZ': 'SWZ',\n 'ET': 'ETH',\n 'FK': 'FLK',\n 'FO': 'FRO',\n 'FJ': 'FJI',\n 'FI': 'FIN',\n 'FR': 'FRA',\n 'GF': 'GUF',\n 'PF': 'PYF',\n 'TF': 'ATF',\n 'GA': 'GAB',\n 'GM': 'GMB',\n 'GE': 'GEO',\n 'DE': 'DEU',\n 'GH': 'GHA',\n 'GI': 'GIB',\n 'GR': 'GRC',\n 'GL': 'GRL',\n 'GD': 'GRD',\n 'GP': 'GLP',\n 'GU': 'GUM',\n 'GT': 'GTM',\n 'GG': 'GGY',\n 'GN': 'GIN',\n 'GW': 'GNB',\n 'GY': 'GUY',\n 'HT': 'HTI',\n 'HM': 'HMD',\n 'VA': 'VAT',\n 'HN': 'HND',\n 'HK': 'HKG',\n 'HU': 'HUN',\n 'IS': 'ISL',\n 'IN': 'IND',\n 'ID': 'IDN',\n 'IR': 'IRN',\n 'IQ': 'IRQ',\n 'IE': 'IRL',\n 'IM': 'IMN',\n 'IL': 'ISR',\n 'IT': 'ITA',\n 'JM': 'JAM',\n 'JP': 'JPN',\n 'JE': 'JEY',\n 'JO': 'JOR',\n 'KZ': 'KAZ',\n 'KE': 'KEN',\n 'KI': 'KIR',\n 'KP': 'PRK',\n 'KR': 'KOR',\n 'KW': 'KWT',\n 'KG': 'KGZ',\n 'LA': 'LAO',\n 'LV': 'LVA',\n 'LB': 'LBN',\n 'LS': 'LSO',\n 'LR': 'LBR',\n 'LY': 'LBY',\n 'LI': 'LIE',\n 'LT': 'LTU',\n 'LU': 'LUX',\n 'MO': 'MAC',\n 'MK': 'MKD',\n 'MG': 'MDG',\n 'MW': 'MWI',\n 'MY': 'MYS',\n 'MV': 'MDV',\n 'ML': 'MLI',\n 'MT': 'MLT',\n 'MH': 'MHL',\n 'MQ': 'MTQ',\n 'MR': 'MRT',\n 'MU': 'MUS',\n 'YT': 'MYT',\n 'MX': 'MEX',\n 'FM': 'FSM',\n 'MD': 'MDA',\n 'MC': 'MCO',\n 'MN': 'MNG',\n 'ME': 'MNE',\n 'MS': 'MSR',\n 'MA': 'MAR',\n 'MZ': 'MOZ',\n 'MM': 'MMR',\n 'NR': 'NRU',\n 'NP': 'NPL',\n 'NL': 'NLD',\n 'NC': 'NCL',\n 'NZ': 'NZL',\n 'NI': 'NIC',\n 'NE': 'NER',\n 'NG': 'NGA',\n 'NU': 'NIU',\n 'NF': 'NFK',\n 'MP': 'MNP',\n 'NO': 'NOR',\n 'OM': 'OMN',\n 'PK': 'PAK',\n 'PW': 'PLW',\n 'PS': 'PSE',\n 'PA': 'PAN',\n 'PG': 'PNG',\n 'PY': 'PRY',\n 'PE': 'PER',\n 'PH': 'PHL',\n 'PN': 'PCN',\n 'PL': 'POL',\n 'PT': 'PRT',\n 'PR': 'PRI',\n 'QA': 'QAT',\n 'RE': 'REU',\n 'RO': 'ROU',\n 'RU': 'RUS',\n 'RW': 'RWA',\n 'BL': 'BLM',\n 'SH': 'SHN',\n 'KN': 'KNA',\n 'LC': 'LCA',\n 'MF': 'MAF',\n 'PM': 'SPM',\n 'VC': 'VCT',\n 'WS': 'WSM',\n 'SM': 'SMR',\n 'ST': 'STP',\n 'SA': 'SAU',\n 'SN': 'SEN',\n 'RS': 'SRB',\n 'SC': 'SYC',\n 'SL': 'SLE',\n 'SG': 'SGP',\n 'SX': 'SXM',\n 'SK': 'SVK',\n 'SI': 'SVN',\n 'SB': 'SLB',\n 'SO': 'SOM',\n 'ZA': 'ZAF',\n 'GS': 'SGS',\n 'SS': 'SSD',\n 'ES': 'ESP',\n 'LK': 'LKA',\n 'SD': 'SDN',\n 'SR': 'SUR',\n 'SJ': 'SJM',\n 'SE': 'SWE',\n 'CH': 'CHE',\n 'SY': 'SYR',\n 'TW': 'TWN',\n 'TJ': 'TJK',\n 'TZ': 'TZA',\n 'TH': 'THA',\n 'TL': 'TLS',\n 'TG': 'TGO',\n 'TK': 'TKL',\n 'TO': 'TON',\n 'TT': 'TTO',\n 'TN': 'TUN',\n 'TR': 'TUR',\n 'TM': 'TKM',\n 'TC': 'TCA',\n 'TV': 'TUV',\n 'UG': 'UGA',\n 'UA': 'UKR',\n 'AE': 'ARE',\n 'GB': 'GBR',\n 'UM': 'UMI',\n 'US': 'USA',\n 'UY': 'URY',\n 'UZ': 'UZB',\n 'VU': 'VUT',\n 'VE': 'VEN',\n 'VN': 'VNM',\n 'VG': 'VGB',\n 'VI': 'VIR',\n 'WF': 'WLF',\n 'EH': 'ESH',\n 'YE': 'YEM',\n 'ZM': 'ZMB',\n 'ZW': 'ZWE',\n 'NA': 'NAM'}"
     },
     "metadata": {},
     "execution_count": 3
    }
   ],
   "source": [
    "codeDict = {}\n",
    "for code2, code3 in zip(list(data['Code-2']), list(data['Code-3'])):\n",
    "    codeDict[code2] = code3\n",
    "codeDict['NA'] = 'NAM'\n",
    "codeDict.pop(list(codeDict.keys())[154])\n",
    "\n",
    "codeDict\n"
   ]
  },
  {
   "cell_type": "code",
   "execution_count": 4,
   "metadata": {},
   "outputs": [],
   "source": [
    "def findLoc(v, h, vv, hh):\n",
    "    lat = 90 - 10*v - vv/24\n",
    "    lng = ((h - 18)*10 + hh/24)/cos(lat*pi/180)\n",
    "\n",
    "    location = Nominatim().reverse([lat, lng])\n",
    "\n",
    "    return codeDict[location.raw['address']['country_code'].upper()]"
   ]
  },
  {
   "cell_type": "code",
   "execution_count": 5,
   "metadata": {},
   "outputs": [
    {
     "output_type": "execute_result",
     "data": {
      "text/plain": "'EGY'"
     },
     "metadata": {},
     "execution_count": 5
    }
   ],
   "source": [
    "findLoc(6,21,3,4)"
   ]
  },
  {
   "cell_type": "code",
   "execution_count": 6,
   "metadata": {},
   "outputs": [
    {
     "output_type": "execute_result",
     "data": {
      "text/plain": "'CHN'"
     },
     "metadata": {},
     "execution_count": 6
    }
   ],
   "source": [
    "findLoc(5,27,4,4)"
   ]
  },
  {
   "cell_type": "code",
   "execution_count": 7,
   "metadata": {},
   "outputs": [
    {
     "output_type": "execute_result",
     "data": {
      "text/plain": "'DZA'"
     },
     "metadata": {},
     "execution_count": 7
    }
   ],
   "source": [
    "findLoc(6,18,1,1)"
   ]
  }
 ],
 "metadata": {
  "language_info": {
   "codemirror_mode": {
    "name": "ipython",
    "version": 3
   },
   "file_extension": ".py",
   "mimetype": "text/x-python",
   "name": "python",
   "nbconvert_exporter": "python",
   "pygments_lexer": "ipython3",
   "version": "3.8.2-final"
  },
  "orig_nbformat": 2,
  "kernelspec": {
   "name": "python38264bit07efa6155ae049918aeea5d0b67f0c9c",
   "display_name": "Python 3.8.2 64-bit"
  }
 },
 "nbformat": 4,
 "nbformat_minor": 2
}