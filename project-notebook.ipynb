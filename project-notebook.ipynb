{
 "cells": [
  {
   "cell_type": "code",
   "execution_count": 1,
   "metadata": {},
   "outputs": [],
   "source": [
    "import numpy as np\n",
    "import pandas as pd"
   ]
  },
  {
   "cell_type": "code",
   "execution_count": 2,
   "metadata": {},
   "outputs": [],
   "source": [
    "def findDistance(loc1, loc2, radius = 6378, height = 0):\n",
    "    lat1, long1 = loc1\n",
    "    lat2, long2 = loc2\n",
    "    #conversion of unit from degree to radian\n",
    "    lat1 *= pi/180\n",
    "    long1 *= pi/180\n",
    "    lat2 *= pi/180\n",
    "    long2 *= pi/180\n",
    "    # radius, height, and result in kilometers\n",
    "    return (radius + height)*acos(sin(lat1)*sin(lat2) + cos(lat1)*cos(lat2)*cos(long1 - long2))\n"
   ]
  },
  {
   "cell_type": "code",
   "execution_count": 3,
   "metadata": {},
   "outputs": [
    {
     "output_type": "execute_result",
     "data": {
      "text/plain": "  Code              City      Country  Latitude  Longitude\n0  ABW        Oranjestad        Aruba   12.5304   -70.0290\n1  AFG             Kabul  Afghanistan   34.5167    69.1833\n2  AGO            Luanda       Angola   -8.8383    13.2344\n3  ALB            Tirana      Albania   41.3275    19.8189\n4  AND  Andorra la Vella      Andorra   42.5000     1.5165",
      "text/html": "<div>\n<style scoped>\n    .dataframe tbody tr th:only-of-type {\n        vertical-align: middle;\n    }\n\n    .dataframe tbody tr th {\n        vertical-align: top;\n    }\n\n    .dataframe thead th {\n        text-align: right;\n    }\n</style>\n<table border=\"1\" class=\"dataframe\">\n  <thead>\n    <tr style=\"text-align: right;\">\n      <th></th>\n      <th>Code</th>\n      <th>City</th>\n      <th>Country</th>\n      <th>Latitude</th>\n      <th>Longitude</th>\n    </tr>\n  </thead>\n  <tbody>\n    <tr>\n      <th>0</th>\n      <td>ABW</td>\n      <td>Oranjestad</td>\n      <td>Aruba</td>\n      <td>12.5304</td>\n      <td>-70.0290</td>\n    </tr>\n    <tr>\n      <th>1</th>\n      <td>AFG</td>\n      <td>Kabul</td>\n      <td>Afghanistan</td>\n      <td>34.5167</td>\n      <td>69.1833</td>\n    </tr>\n    <tr>\n      <th>2</th>\n      <td>AGO</td>\n      <td>Luanda</td>\n      <td>Angola</td>\n      <td>-8.8383</td>\n      <td>13.2344</td>\n    </tr>\n    <tr>\n      <th>3</th>\n      <td>ALB</td>\n      <td>Tirana</td>\n      <td>Albania</td>\n      <td>41.3275</td>\n      <td>19.8189</td>\n    </tr>\n    <tr>\n      <th>4</th>\n      <td>AND</td>\n      <td>Andorra la Vella</td>\n      <td>Andorra</td>\n      <td>42.5000</td>\n      <td>1.5165</td>\n    </tr>\n  </tbody>\n</table>\n</div>"
     },
     "metadata": {},
     "execution_count": 3
    }
   ],
   "source": [
    "countryDetail_df = pd.read_csv(\"./data/capitalCities.csv\")\n",
    "countryDetail_df.head()"
   ]
  },
  {
   "cell_type": "code",
   "execution_count": 4,
   "metadata": {},
   "outputs": [
    {
     "output_type": "execute_result",
     "data": {
      "text/plain": "  Code      Country              City  Latitude  Longitude\n0  ABW        Aruba        Oranjestad   12.5304   -70.0290\n1  AFG  Afghanistan             Kabul   34.5167    69.1833\n2  AGO       Angola            Luanda   -8.8383    13.2344\n3  ALB      Albania            Tirana   41.3275    19.8189\n4  AND      Andorra  Andorra la Vella   42.5000     1.5165",
      "text/html": "<div>\n<style scoped>\n    .dataframe tbody tr th:only-of-type {\n        vertical-align: middle;\n    }\n\n    .dataframe tbody tr th {\n        vertical-align: top;\n    }\n\n    .dataframe thead th {\n        text-align: right;\n    }\n</style>\n<table border=\"1\" class=\"dataframe\">\n  <thead>\n    <tr style=\"text-align: right;\">\n      <th></th>\n      <th>Code</th>\n      <th>Country</th>\n      <th>City</th>\n      <th>Latitude</th>\n      <th>Longitude</th>\n    </tr>\n  </thead>\n  <tbody>\n    <tr>\n      <th>0</th>\n      <td>ABW</td>\n      <td>Aruba</td>\n      <td>Oranjestad</td>\n      <td>12.5304</td>\n      <td>-70.0290</td>\n    </tr>\n    <tr>\n      <th>1</th>\n      <td>AFG</td>\n      <td>Afghanistan</td>\n      <td>Kabul</td>\n      <td>34.5167</td>\n      <td>69.1833</td>\n    </tr>\n    <tr>\n      <th>2</th>\n      <td>AGO</td>\n      <td>Angola</td>\n      <td>Luanda</td>\n      <td>-8.8383</td>\n      <td>13.2344</td>\n    </tr>\n    <tr>\n      <th>3</th>\n      <td>ALB</td>\n      <td>Albania</td>\n      <td>Tirana</td>\n      <td>41.3275</td>\n      <td>19.8189</td>\n    </tr>\n    <tr>\n      <th>4</th>\n      <td>AND</td>\n      <td>Andorra</td>\n      <td>Andorra la Vella</td>\n      <td>42.5000</td>\n      <td>1.5165</td>\n    </tr>\n  </tbody>\n</table>\n</div>"
     },
     "metadata": {},
     "execution_count": 4
    }
   ],
   "source": [
    "countryDetail_df = countryDetail_df[['Code', 'Country', 'City', 'Latitude', 'Longitude']]\n",
    "countryDetail_df.head()"
   ]
  },
  {
   "cell_type": "code",
   "execution_count": 5,
   "metadata": {},
   "outputs": [
    {
     "output_type": "execute_result",
     "data": {
      "text/plain": "  Country Code  Year  Population\n0   Aruba  ABW  2008      101000\n1   Aruba  ABW  2009      101000\n2   Aruba  ABW  2010      102000\n3   Aruba  ABW  2011      102000\n4   Aruba  ABW  2012      103000",
      "text/html": "<div>\n<style scoped>\n    .dataframe tbody tr th:only-of-type {\n        vertical-align: middle;\n    }\n\n    .dataframe tbody tr th {\n        vertical-align: top;\n    }\n\n    .dataframe thead th {\n        text-align: right;\n    }\n</style>\n<table border=\"1\" class=\"dataframe\">\n  <thead>\n    <tr style=\"text-align: right;\">\n      <th></th>\n      <th>Country</th>\n      <th>Code</th>\n      <th>Year</th>\n      <th>Population</th>\n    </tr>\n  </thead>\n  <tbody>\n    <tr>\n      <th>0</th>\n      <td>Aruba</td>\n      <td>ABW</td>\n      <td>2008</td>\n      <td>101000</td>\n    </tr>\n    <tr>\n      <th>1</th>\n      <td>Aruba</td>\n      <td>ABW</td>\n      <td>2009</td>\n      <td>101000</td>\n    </tr>\n    <tr>\n      <th>2</th>\n      <td>Aruba</td>\n      <td>ABW</td>\n      <td>2010</td>\n      <td>102000</td>\n    </tr>\n    <tr>\n      <th>3</th>\n      <td>Aruba</td>\n      <td>ABW</td>\n      <td>2011</td>\n      <td>102000</td>\n    </tr>\n    <tr>\n      <th>4</th>\n      <td>Aruba</td>\n      <td>ABW</td>\n      <td>2012</td>\n      <td>103000</td>\n    </tr>\n  </tbody>\n</table>\n</div>"
     },
     "metadata": {},
     "execution_count": 5
    }
   ],
   "source": [
    "population_df = pd.read_csv(\"./data/population.csv\")\n",
    "population_df.head()"
   ]
  },
  {
   "cell_type": "code",
   "execution_count": 6,
   "metadata": {},
   "outputs": [
    {
     "output_type": "execute_result",
     "data": {
      "text/plain": "   2008  2009  2010  2011  2012  2013  2014  2015  2016  2017  2018  2019\n0     1     0     0     0     0     0     0     0     0     0     0     0\n1     0     1     0     0     0     0     0     0     0     0     0     0\n2     0     0     1     0     0     0     0     0     0     0     0     0\n3     0     0     0     1     0     0     0     0     0     0     0     0\n4     0     0     0     0     1     0     0     0     0     0     0     0",
      "text/html": "<div>\n<style scoped>\n    .dataframe tbody tr th:only-of-type {\n        vertical-align: middle;\n    }\n\n    .dataframe tbody tr th {\n        vertical-align: top;\n    }\n\n    .dataframe thead th {\n        text-align: right;\n    }\n</style>\n<table border=\"1\" class=\"dataframe\">\n  <thead>\n    <tr style=\"text-align: right;\">\n      <th></th>\n      <th>2008</th>\n      <th>2009</th>\n      <th>2010</th>\n      <th>2011</th>\n      <th>2012</th>\n      <th>2013</th>\n      <th>2014</th>\n      <th>2015</th>\n      <th>2016</th>\n      <th>2017</th>\n      <th>2018</th>\n      <th>2019</th>\n    </tr>\n  </thead>\n  <tbody>\n    <tr>\n      <th>0</th>\n      <td>1</td>\n      <td>0</td>\n      <td>0</td>\n      <td>0</td>\n      <td>0</td>\n      <td>0</td>\n      <td>0</td>\n      <td>0</td>\n      <td>0</td>\n      <td>0</td>\n      <td>0</td>\n      <td>0</td>\n    </tr>\n    <tr>\n      <th>1</th>\n      <td>0</td>\n      <td>1</td>\n      <td>0</td>\n      <td>0</td>\n      <td>0</td>\n      <td>0</td>\n      <td>0</td>\n      <td>0</td>\n      <td>0</td>\n      <td>0</td>\n      <td>0</td>\n      <td>0</td>\n    </tr>\n    <tr>\n      <th>2</th>\n      <td>0</td>\n      <td>0</td>\n      <td>1</td>\n      <td>0</td>\n      <td>0</td>\n      <td>0</td>\n      <td>0</td>\n      <td>0</td>\n      <td>0</td>\n      <td>0</td>\n      <td>0</td>\n      <td>0</td>\n    </tr>\n    <tr>\n      <th>3</th>\n      <td>0</td>\n      <td>0</td>\n      <td>0</td>\n      <td>1</td>\n      <td>0</td>\n      <td>0</td>\n      <td>0</td>\n      <td>0</td>\n      <td>0</td>\n      <td>0</td>\n      <td>0</td>\n      <td>0</td>\n    </tr>\n    <tr>\n      <th>4</th>\n      <td>0</td>\n      <td>0</td>\n      <td>0</td>\n      <td>0</td>\n      <td>1</td>\n      <td>0</td>\n      <td>0</td>\n      <td>0</td>\n      <td>0</td>\n      <td>0</td>\n      <td>0</td>\n      <td>0</td>\n    </tr>\n  </tbody>\n</table>\n</div>"
     },
     "metadata": {},
     "execution_count": 6
    }
   ],
   "source": [
    "dummy = pd.get_dummies(population_df['Year'])\n",
    "dummy.head()"
   ]
  },
  {
   "cell_type": "code",
   "execution_count": 7,
   "metadata": {},
   "outputs": [
    {
     "output_type": "execute_result",
     "data": {
      "text/plain": "  Country Code  Year  Population  2008  2009  2010  2011  2012  2013  2014  \\\n0   Aruba  ABW  2008      101000     1     0     0     0     0     0     0   \n1   Aruba  ABW  2009      101000     0     1     0     0     0     0     0   \n2   Aruba  ABW  2010      102000     0     0     1     0     0     0     0   \n3   Aruba  ABW  2011      102000     0     0     0     1     0     0     0   \n4   Aruba  ABW  2012      103000     0     0     0     0     1     0     0   \n\n   2015  2016  2017  2018  2019  \n0     0     0     0     0     0  \n1     0     0     0     0     0  \n2     0     0     0     0     0  \n3     0     0     0     0     0  \n4     0     0     0     0     0  ",
      "text/html": "<div>\n<style scoped>\n    .dataframe tbody tr th:only-of-type {\n        vertical-align: middle;\n    }\n\n    .dataframe tbody tr th {\n        vertical-align: top;\n    }\n\n    .dataframe thead th {\n        text-align: right;\n    }\n</style>\n<table border=\"1\" class=\"dataframe\">\n  <thead>\n    <tr style=\"text-align: right;\">\n      <th></th>\n      <th>Country</th>\n      <th>Code</th>\n      <th>Year</th>\n      <th>Population</th>\n      <th>2008</th>\n      <th>2009</th>\n      <th>2010</th>\n      <th>2011</th>\n      <th>2012</th>\n      <th>2013</th>\n      <th>2014</th>\n      <th>2015</th>\n      <th>2016</th>\n      <th>2017</th>\n      <th>2018</th>\n      <th>2019</th>\n    </tr>\n  </thead>\n  <tbody>\n    <tr>\n      <th>0</th>\n      <td>Aruba</td>\n      <td>ABW</td>\n      <td>2008</td>\n      <td>101000</td>\n      <td>1</td>\n      <td>0</td>\n      <td>0</td>\n      <td>0</td>\n      <td>0</td>\n      <td>0</td>\n      <td>0</td>\n      <td>0</td>\n      <td>0</td>\n      <td>0</td>\n      <td>0</td>\n      <td>0</td>\n    </tr>\n    <tr>\n      <th>1</th>\n      <td>Aruba</td>\n      <td>ABW</td>\n      <td>2009</td>\n      <td>101000</td>\n      <td>0</td>\n      <td>1</td>\n      <td>0</td>\n      <td>0</td>\n      <td>0</td>\n      <td>0</td>\n      <td>0</td>\n      <td>0</td>\n      <td>0</td>\n      <td>0</td>\n      <td>0</td>\n      <td>0</td>\n    </tr>\n    <tr>\n      <th>2</th>\n      <td>Aruba</td>\n      <td>ABW</td>\n      <td>2010</td>\n      <td>102000</td>\n      <td>0</td>\n      <td>0</td>\n      <td>1</td>\n      <td>0</td>\n      <td>0</td>\n      <td>0</td>\n      <td>0</td>\n      <td>0</td>\n      <td>0</td>\n      <td>0</td>\n      <td>0</td>\n      <td>0</td>\n    </tr>\n    <tr>\n      <th>3</th>\n      <td>Aruba</td>\n      <td>ABW</td>\n      <td>2011</td>\n      <td>102000</td>\n      <td>0</td>\n      <td>0</td>\n      <td>0</td>\n      <td>1</td>\n      <td>0</td>\n      <td>0</td>\n      <td>0</td>\n      <td>0</td>\n      <td>0</td>\n      <td>0</td>\n      <td>0</td>\n      <td>0</td>\n    </tr>\n    <tr>\n      <th>4</th>\n      <td>Aruba</td>\n      <td>ABW</td>\n      <td>2012</td>\n      <td>103000</td>\n      <td>0</td>\n      <td>0</td>\n      <td>0</td>\n      <td>0</td>\n      <td>1</td>\n      <td>0</td>\n      <td>0</td>\n      <td>0</td>\n      <td>0</td>\n      <td>0</td>\n      <td>0</td>\n      <td>0</td>\n    </tr>\n  </tbody>\n</table>\n</div>"
     },
     "metadata": {},
     "execution_count": 7
    }
   ],
   "source": [
    "population_df = pd.concat([population_df,dummy],axis=1)\n",
    "population_df.head()"
   ]
  },
  {
   "cell_type": "code",
   "execution_count": 8,
   "metadata": {},
   "outputs": [
    {
     "output_type": "execute_result",
     "data": {
      "text/plain": "  Country Code  Year  Population    2008    2009    2010    2011    2012  \\\n0   Aruba  ABW  2008      101000  101000       0       0       0       0   \n1   Aruba  ABW  2009      101000       0  101000       0       0       0   \n2   Aruba  ABW  2010      102000       0       0  102000       0       0   \n3   Aruba  ABW  2011      102000       0       0       0  102000       0   \n4   Aruba  ABW  2012      103000       0       0       0       0  103000   \n\n   2013  2014  2015  2016  2017  2018  2019  \n0     0     0     0     0     0     0     0  \n1     0     0     0     0     0     0     0  \n2     0     0     0     0     0     0     0  \n3     0     0     0     0     0     0     0  \n4     0     0     0     0     0     0     0  ",
      "text/html": "<div>\n<style scoped>\n    .dataframe tbody tr th:only-of-type {\n        vertical-align: middle;\n    }\n\n    .dataframe tbody tr th {\n        vertical-align: top;\n    }\n\n    .dataframe thead th {\n        text-align: right;\n    }\n</style>\n<table border=\"1\" class=\"dataframe\">\n  <thead>\n    <tr style=\"text-align: right;\">\n      <th></th>\n      <th>Country</th>\n      <th>Code</th>\n      <th>Year</th>\n      <th>Population</th>\n      <th>2008</th>\n      <th>2009</th>\n      <th>2010</th>\n      <th>2011</th>\n      <th>2012</th>\n      <th>2013</th>\n      <th>2014</th>\n      <th>2015</th>\n      <th>2016</th>\n      <th>2017</th>\n      <th>2018</th>\n      <th>2019</th>\n    </tr>\n  </thead>\n  <tbody>\n    <tr>\n      <th>0</th>\n      <td>Aruba</td>\n      <td>ABW</td>\n      <td>2008</td>\n      <td>101000</td>\n      <td>101000</td>\n      <td>0</td>\n      <td>0</td>\n      <td>0</td>\n      <td>0</td>\n      <td>0</td>\n      <td>0</td>\n      <td>0</td>\n      <td>0</td>\n      <td>0</td>\n      <td>0</td>\n      <td>0</td>\n    </tr>\n    <tr>\n      <th>1</th>\n      <td>Aruba</td>\n      <td>ABW</td>\n      <td>2009</td>\n      <td>101000</td>\n      <td>0</td>\n      <td>101000</td>\n      <td>0</td>\n      <td>0</td>\n      <td>0</td>\n      <td>0</td>\n      <td>0</td>\n      <td>0</td>\n      <td>0</td>\n      <td>0</td>\n      <td>0</td>\n      <td>0</td>\n    </tr>\n    <tr>\n      <th>2</th>\n      <td>Aruba</td>\n      <td>ABW</td>\n      <td>2010</td>\n      <td>102000</td>\n      <td>0</td>\n      <td>0</td>\n      <td>102000</td>\n      <td>0</td>\n      <td>0</td>\n      <td>0</td>\n      <td>0</td>\n      <td>0</td>\n      <td>0</td>\n      <td>0</td>\n      <td>0</td>\n      <td>0</td>\n    </tr>\n    <tr>\n      <th>3</th>\n      <td>Aruba</td>\n      <td>ABW</td>\n      <td>2011</td>\n      <td>102000</td>\n      <td>0</td>\n      <td>0</td>\n      <td>0</td>\n      <td>102000</td>\n      <td>0</td>\n      <td>0</td>\n      <td>0</td>\n      <td>0</td>\n      <td>0</td>\n      <td>0</td>\n      <td>0</td>\n      <td>0</td>\n    </tr>\n    <tr>\n      <th>4</th>\n      <td>Aruba</td>\n      <td>ABW</td>\n      <td>2012</td>\n      <td>103000</td>\n      <td>0</td>\n      <td>0</td>\n      <td>0</td>\n      <td>0</td>\n      <td>103000</td>\n      <td>0</td>\n      <td>0</td>\n      <td>0</td>\n      <td>0</td>\n      <td>0</td>\n      <td>0</td>\n      <td>0</td>\n    </tr>\n  </tbody>\n</table>\n</div>"
     },
     "metadata": {},
     "execution_count": 8
    }
   ],
   "source": [
    "for i in range(2008, 2020):\n",
    "    population_df[i] *= population_df['Population']\n",
    "\n",
    "population_df.head()"
   ]
  },
  {
   "cell_type": "code",
   "execution_count": 9,
   "metadata": {},
   "outputs": [],
   "source": [
    "new_df = population_df.groupby('Code').sum().drop(['Year', 'Population'], axis=1)"
   ]
  },
  {
   "cell_type": "code",
   "execution_count": 10,
   "metadata": {},
   "outputs": [
    {
     "output_type": "execute_result",
     "data": {
      "text/plain": "  Code      Country              City  Latitude  Longitude      2008  \\\n0  ABW        Aruba        Oranjestad   12.5304   -70.0290    101000   \n1  AFG  Afghanistan             Kabul   34.5167    69.1833  27722000   \n2  AGO       Angola            Luanda   -8.8383    13.2344  21696000   \n3  ALB      Albania            Tirana   41.3275    19.8189   3003000   \n4  AND      Andorra  Andorra la Vella   42.5000     1.5165     84000   \n\n       2009      2010      2011      2012      2013      2014      2015  \\\n0    101000    102000    102000    103000    103000    104000    104000   \n1  28395000  29186000  30117000  31161000  32270000  33371000  34414000   \n2  22514000  23356000  24221000  25108000  26016000  26942000  27884000   \n3   2973000   2948000   2929000   2914000   2904000   2896000   2891000   \n4     84000     84000     84000     82000     81000     79000     78000   \n\n       2016      2017      2018      2019  \n0    105000    105000    106000    106000  \n1  35383000  36296000  37172000  38042000  \n2  28842000  29817000  30810000  31825000  \n3   2886000   2884000   2883000   2881000  \n4     77000     77000     77000     77000  ",
      "text/html": "<div>\n<style scoped>\n    .dataframe tbody tr th:only-of-type {\n        vertical-align: middle;\n    }\n\n    .dataframe tbody tr th {\n        vertical-align: top;\n    }\n\n    .dataframe thead th {\n        text-align: right;\n    }\n</style>\n<table border=\"1\" class=\"dataframe\">\n  <thead>\n    <tr style=\"text-align: right;\">\n      <th></th>\n      <th>Code</th>\n      <th>Country</th>\n      <th>City</th>\n      <th>Latitude</th>\n      <th>Longitude</th>\n      <th>2008</th>\n      <th>2009</th>\n      <th>2010</th>\n      <th>2011</th>\n      <th>2012</th>\n      <th>2013</th>\n      <th>2014</th>\n      <th>2015</th>\n      <th>2016</th>\n      <th>2017</th>\n      <th>2018</th>\n      <th>2019</th>\n    </tr>\n  </thead>\n  <tbody>\n    <tr>\n      <th>0</th>\n      <td>ABW</td>\n      <td>Aruba</td>\n      <td>Oranjestad</td>\n      <td>12.5304</td>\n      <td>-70.0290</td>\n      <td>101000</td>\n      <td>101000</td>\n      <td>102000</td>\n      <td>102000</td>\n      <td>103000</td>\n      <td>103000</td>\n      <td>104000</td>\n      <td>104000</td>\n      <td>105000</td>\n      <td>105000</td>\n      <td>106000</td>\n      <td>106000</td>\n    </tr>\n    <tr>\n      <th>1</th>\n      <td>AFG</td>\n      <td>Afghanistan</td>\n      <td>Kabul</td>\n      <td>34.5167</td>\n      <td>69.1833</td>\n      <td>27722000</td>\n      <td>28395000</td>\n      <td>29186000</td>\n      <td>30117000</td>\n      <td>31161000</td>\n      <td>32270000</td>\n      <td>33371000</td>\n      <td>34414000</td>\n      <td>35383000</td>\n      <td>36296000</td>\n      <td>37172000</td>\n      <td>38042000</td>\n    </tr>\n    <tr>\n      <th>2</th>\n      <td>AGO</td>\n      <td>Angola</td>\n      <td>Luanda</td>\n      <td>-8.8383</td>\n      <td>13.2344</td>\n      <td>21696000</td>\n      <td>22514000</td>\n      <td>23356000</td>\n      <td>24221000</td>\n      <td>25108000</td>\n      <td>26016000</td>\n      <td>26942000</td>\n      <td>27884000</td>\n      <td>28842000</td>\n      <td>29817000</td>\n      <td>30810000</td>\n      <td>31825000</td>\n    </tr>\n    <tr>\n      <th>3</th>\n      <td>ALB</td>\n      <td>Albania</td>\n      <td>Tirana</td>\n      <td>41.3275</td>\n      <td>19.8189</td>\n      <td>3003000</td>\n      <td>2973000</td>\n      <td>2948000</td>\n      <td>2929000</td>\n      <td>2914000</td>\n      <td>2904000</td>\n      <td>2896000</td>\n      <td>2891000</td>\n      <td>2886000</td>\n      <td>2884000</td>\n      <td>2883000</td>\n      <td>2881000</td>\n    </tr>\n    <tr>\n      <th>4</th>\n      <td>AND</td>\n      <td>Andorra</td>\n      <td>Andorra la Vella</td>\n      <td>42.5000</td>\n      <td>1.5165</td>\n      <td>84000</td>\n      <td>84000</td>\n      <td>84000</td>\n      <td>84000</td>\n      <td>82000</td>\n      <td>81000</td>\n      <td>79000</td>\n      <td>78000</td>\n      <td>77000</td>\n      <td>77000</td>\n      <td>77000</td>\n      <td>77000</td>\n    </tr>\n  </tbody>\n</table>\n</div>"
     },
     "metadata": {},
     "execution_count": 10
    }
   ],
   "source": [
    "countryPopulation_df = pd.merge(countryDetail_df, new_df, how='inner', on='Code')\n",
    "countryPopulation_df.head()"
   ]
  },
  {
   "cell_type": "code",
   "execution_count": 11,
   "metadata": {},
   "outputs": [
    {
     "output_type": "execute_result",
     "data": {
      "text/plain": "  Code      Country              City  Latitude  Longitude         2008  \\\n0  ABW        Aruba        Oranjestad   12.5304   -70.0290    202000000   \n1  AFG  Afghanistan             Kabul   34.5167    69.1833  55444000000   \n2  AGO       Angola            Luanda   -8.8383    13.2344  43392000000   \n3  ALB      Albania            Tirana   41.3275    19.8189   6006000000   \n4  AND      Andorra  Andorra la Vella   42.5000     1.5165    168000000   \n\n          2009         2010         2011         2012         2013  \\\n0    202000000    204000000    204000000    206000000    206000000   \n1  56790000000  58372000000  60234000000  62322000000  64540000000   \n2  45028000000  46712000000  48442000000  50216000000  52032000000   \n3   5946000000   5896000000   5858000000   5828000000   5808000000   \n4    168000000    168000000    168000000    164000000    162000000   \n\n          2014         2015         2016         2017         2018  \\\n0    208000000    208000000    210000000    210000000    212000000   \n1  66742000000  68828000000  70766000000  72592000000  74344000000   \n2  53884000000  55768000000  57684000000  59634000000  61620000000   \n3   5792000000   5782000000   5772000000   5768000000   5766000000   \n4    158000000    156000000    154000000    154000000    154000000   \n\n          2019  \n0    212000000  \n1  76084000000  \n2  63650000000  \n3   5762000000  \n4    154000000  ",
      "text/html": "<div>\n<style scoped>\n    .dataframe tbody tr th:only-of-type {\n        vertical-align: middle;\n    }\n\n    .dataframe tbody tr th {\n        vertical-align: top;\n    }\n\n    .dataframe thead th {\n        text-align: right;\n    }\n</style>\n<table border=\"1\" class=\"dataframe\">\n  <thead>\n    <tr style=\"text-align: right;\">\n      <th></th>\n      <th>Code</th>\n      <th>Country</th>\n      <th>City</th>\n      <th>Latitude</th>\n      <th>Longitude</th>\n      <th>2008</th>\n      <th>2009</th>\n      <th>2010</th>\n      <th>2011</th>\n      <th>2012</th>\n      <th>2013</th>\n      <th>2014</th>\n      <th>2015</th>\n      <th>2016</th>\n      <th>2017</th>\n      <th>2018</th>\n      <th>2019</th>\n    </tr>\n  </thead>\n  <tbody>\n    <tr>\n      <th>0</th>\n      <td>ABW</td>\n      <td>Aruba</td>\n      <td>Oranjestad</td>\n      <td>12.5304</td>\n      <td>-70.0290</td>\n      <td>202000000</td>\n      <td>202000000</td>\n      <td>204000000</td>\n      <td>204000000</td>\n      <td>206000000</td>\n      <td>206000000</td>\n      <td>208000000</td>\n      <td>208000000</td>\n      <td>210000000</td>\n      <td>210000000</td>\n      <td>212000000</td>\n      <td>212000000</td>\n    </tr>\n    <tr>\n      <th>1</th>\n      <td>AFG</td>\n      <td>Afghanistan</td>\n      <td>Kabul</td>\n      <td>34.5167</td>\n      <td>69.1833</td>\n      <td>55444000000</td>\n      <td>56790000000</td>\n      <td>58372000000</td>\n      <td>60234000000</td>\n      <td>62322000000</td>\n      <td>64540000000</td>\n      <td>66742000000</td>\n      <td>68828000000</td>\n      <td>70766000000</td>\n      <td>72592000000</td>\n      <td>74344000000</td>\n      <td>76084000000</td>\n    </tr>\n    <tr>\n      <th>2</th>\n      <td>AGO</td>\n      <td>Angola</td>\n      <td>Luanda</td>\n      <td>-8.8383</td>\n      <td>13.2344</td>\n      <td>43392000000</td>\n      <td>45028000000</td>\n      <td>46712000000</td>\n      <td>48442000000</td>\n      <td>50216000000</td>\n      <td>52032000000</td>\n      <td>53884000000</td>\n      <td>55768000000</td>\n      <td>57684000000</td>\n      <td>59634000000</td>\n      <td>61620000000</td>\n      <td>63650000000</td>\n    </tr>\n    <tr>\n      <th>3</th>\n      <td>ALB</td>\n      <td>Albania</td>\n      <td>Tirana</td>\n      <td>41.3275</td>\n      <td>19.8189</td>\n      <td>6006000000</td>\n      <td>5946000000</td>\n      <td>5896000000</td>\n      <td>5858000000</td>\n      <td>5828000000</td>\n      <td>5808000000</td>\n      <td>5792000000</td>\n      <td>5782000000</td>\n      <td>5772000000</td>\n      <td>5768000000</td>\n      <td>5766000000</td>\n      <td>5762000000</td>\n    </tr>\n    <tr>\n      <th>4</th>\n      <td>AND</td>\n      <td>Andorra</td>\n      <td>Andorra la Vella</td>\n      <td>42.5000</td>\n      <td>1.5165</td>\n      <td>168000000</td>\n      <td>168000000</td>\n      <td>168000000</td>\n      <td>168000000</td>\n      <td>164000000</td>\n      <td>162000000</td>\n      <td>158000000</td>\n      <td>156000000</td>\n      <td>154000000</td>\n      <td>154000000</td>\n      <td>154000000</td>\n      <td>154000000</td>\n    </tr>\n  </tbody>\n</table>\n</div>"
     },
     "metadata": {},
     "execution_count": 11
    }
   ],
   "source": [
    "countryCalories_df = countryPopulation_df\n",
    "\n",
    "calories_per_person = 2000\n",
    "\n",
    "for i in range(2008, 2020):\n",
    "    countryCalories_df[i] *= calories_per_person\n",
    "\n",
    "countryCalories_df.head()\n"
   ]
  },
  {
   "cell_type": "code",
   "execution_count": null,
   "metadata": {},
   "outputs": [],
   "source": []
  }
 ],
 "metadata": {
  "language_info": {
   "codemirror_mode": {
    "name": "ipython",
    "version": 3
   },
   "file_extension": ".py",
   "mimetype": "text/x-python",
   "name": "python",
   "nbconvert_exporter": "python",
   "pygments_lexer": "ipython3",
   "version": "3.8.2-final"
  },
  "orig_nbformat": 2,
  "kernelspec": {
   "name": "python38264bit07efa6155ae049918aeea5d0b67f0c9c",
   "display_name": "Python 3.8.2 64-bit"
  }
 },
 "nbformat": 4,
 "nbformat_minor": 2
}